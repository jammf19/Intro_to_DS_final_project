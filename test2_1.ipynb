{
 "cells": [
  {
   "cell_type": "code",
   "execution_count": null,
   "metadata": {},
   "outputs": [],
   "source": [
    "#test 2.5\n",
    "from bs4 import BeautifulSoup\n",
    "import requests\n",
    "import random\n",
    "import pandas as pd"
   ]
  },
  {
   "cell_type": "code",
   "execution_count": null,
   "metadata": {},
   "outputs": [],
   "source": [
    "url = 'https://en.wikipedia.org/wiki/List_of_Super_Bowl_halftime_shows#cite_note-68'\n",
    "response = requests.get(url)\n",
    "soup = BeautifulSoup(response.text, features = \"html.parser\")"
   ]
  },
  {
   "cell_type": "code",
   "execution_count": null,
   "metadata": {},
   "outputs": [],
   "source": [
    "tables = soup.find_all(\"table\", {\"class\": \"wikitable\"})\n",
    "# Process each table\n",
    "for table in tables:\n",
    "    # Extract the headers\n",
    "    headers = [th.get_text(strip=True) for th in table.find_all('th')]\n",
    "\n",
    "    # Extract the rows\n",
    "    rows = []\n",
    "    for tr in table.find_all('tr'):\n",
    "        cells = tr.find_all('td')\n",
    "        row = [cell.find('a').get_text(strip=True) if cell.find('a') else cell.get_text(strip=True) for cell in cells]\n",
    "        if row:\n",
    "            rows.append(row)\n",
    "\n",
    "    # Create a DataFrame\n",
    "    df = pd.DataFrame(rows, columns=headers)\n"
   ]
  }
 ],
 "metadata": {
  "language_info": {
   "name": "python"
  }
 },
 "nbformat": 4,
 "nbformat_minor": 2
}
