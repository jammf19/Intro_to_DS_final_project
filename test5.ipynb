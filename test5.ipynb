{
 "cells": [
  {
   "cell_type": "code",
   "execution_count": 5,
   "metadata": {},
   "outputs": [],
   "source": [
    "import pandas as pd\n",
    "\n",
    "# Load the CSV file and specify the datatype for the 'Setlist' and 'Musician(s)' columns\n",
    "file_path = 'c:/Users/Jade Ana-Maria/peckham1/daz-venv/24-intro-to-data-science/final_project/no_songs.csv'\n",
    "df = pd.read_csv(file_path)"
   ]
  },
  {
   "cell_type": "code",
   "execution_count": 7,
   "metadata": {},
   "outputs": [],
   "source": [
    "import pandas as pd\n",
    "\n",
    "def update_num_songs(df):\n",
    "    # Define a helper function to count the number of songs in the setlist\n",
    "    def count_songs(setlist):\n",
    "        if pd.isna(setlist):\n",
    "            return 0\n",
    "        return len(setlist.split(','))\n",
    "\n",
    "    # Strip whitespaces from 'Headliner(s)' and 'Musician(s)' columns\n",
    "    df['Headliner(s)'] = df['Headliner(s)'].str.strip()\n",
    "    df['Musician(s)'] = df['Musician(s)'].str.strip()\n",
    "    df['Setlist'] = df['Setlist'].str.strip()\n",
    "\n",
    "    # Update the num_songs column based on the condition\n",
    "    df['num_songs'] = df.apply(lambda row: count_songs(row['Setlist']) if row['Headliner(s)'] == row['Musician(s)'] else 0, axis=1)\n",
    "\n",
    "    return df\n",
    "\n",
    "df = update_num_songs(df)\n",
    "\n",
    "# Save the updated DataFrame to a new CSV file\n",
    "df.to_csv('no_songs_updated.csv', index=False)\n"
   ]
  }
 ],
 "metadata": {
  "kernelspec": {
   "display_name": "Python 3",
   "language": "python",
   "name": "python3"
  },
  "language_info": {
   "codemirror_mode": {
    "name": "ipython",
    "version": 3
   },
   "file_extension": ".py",
   "mimetype": "text/x-python",
   "name": "python",
   "nbconvert_exporter": "python",
   "pygments_lexer": "ipython3",
   "version": "3.11.9"
  }
 },
 "nbformat": 4,
 "nbformat_minor": 2
}
