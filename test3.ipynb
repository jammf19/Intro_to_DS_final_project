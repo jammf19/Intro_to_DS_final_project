{
 "cells": [
  {
   "cell_type": "code",
   "execution_count": 2,
   "metadata": {},
   "outputs": [],
   "source": [
    "\n",
    "\n",
    "\n",
    "\n",
    "\n",
    "\n",
    "#df['column_name'].value_counts()[value]"
   ]
  },
  {
   "cell_type": "code",
   "execution_count": 3,
   "metadata": {},
   "outputs": [
    {
     "data": {
      "text/html": [
       "<div>\n",
       "<style scoped>\n",
       "    .dataframe tbody tr th:only-of-type {\n",
       "        vertical-align: middle;\n",
       "    }\n",
       "\n",
       "    .dataframe tbody tr th {\n",
       "        vertical-align: top;\n",
       "    }\n",
       "\n",
       "    .dataframe thead th {\n",
       "        text-align: right;\n",
       "    }\n",
       "</style>\n",
       "<table border=\"1\" class=\"dataframe\">\n",
       "  <thead>\n",
       "    <tr style=\"text-align: right;\">\n",
       "      <th></th>\n",
       "      <th>Superbowl</th>\n",
       "      <th>Setlist</th>\n",
       "      <th>Musicians</th>\n",
       "    </tr>\n",
       "  </thead>\n",
       "  <tbody>\n",
       "    <tr>\n",
       "      <th>0</th>\n",
       "      <td>1</td>\n",
       "      <td>Wacced Out Murals (intro), Bodies (Kendrick La...</td>\n",
       "      <td>Kendrick Lamar</td>\n",
       "    </tr>\n",
       "    <tr>\n",
       "      <th>1</th>\n",
       "      <td>1</td>\n",
       "      <td>Wacced Out Murals (intro), Bodies (Kendrick La...</td>\n",
       "      <td>SZA</td>\n",
       "    </tr>\n",
       "    <tr>\n",
       "      <th>2</th>\n",
       "      <td>1</td>\n",
       "      <td>Wacced Out Murals (intro), Bodies (Kendrick La...</td>\n",
       "      <td>Mustard</td>\n",
       "    </tr>\n",
       "  </tbody>\n",
       "</table>\n",
       "</div>"
      ],
      "text/plain": [
       "   Superbowl                                            Setlist  \\\n",
       "0          1  Wacced Out Murals (intro), Bodies (Kendrick La...   \n",
       "1          1  Wacced Out Murals (intro), Bodies (Kendrick La...   \n",
       "2          1  Wacced Out Murals (intro), Bodies (Kendrick La...   \n",
       "\n",
       "        Musicians  \n",
       "0  Kendrick Lamar  \n",
       "1             SZA  \n",
       "2         Mustard  "
      ]
     },
     "execution_count": 3,
     "metadata": {},
     "output_type": "execute_result"
    }
   ],
   "source": [
    "import pandas as pd\n",
    "\n",
    "#create DataFrame\n",
    "df = pd.DataFrame({'Superbowl': [1, 1, 1],\n",
    "                   'Setlist': ['Wacced Out Murals (intro), Bodies (Kendrick Lamar), Squabble Up (Kendrick Lamar), Humble (Kendrick Lamar), DNA (Kendrick Lamar), Euphoria (Kendrick Lamar), Man at the Garden (Kendrick Lamar), Peekaboo (Kendrick Lamar), Luther (Kendrick Lamar and SZA), All the Stars (Kendrick Lamar and SZA), Not Like Us (Kendrick Lamar), TV Off (Kendrick Lamar)',\n",
    "                               'Wacced Out Murals (intro), Bodies (Kendrick Lamar), Squabble Up (Kendrick Lamar), Humble (Kendrick Lamar), DNA (Kendrick Lamar), Euphoria (Kendrick Lamar), Man at the Garden (Kendrick Lamar), Peekaboo (Kendrick Lamar), Luther (Kendrick Lamar and SZA), All the Stars (Kendrick Lamar and SZA), Not Like Us (Kendrick Lamar), TV Off (Kendrick Lamar)',\n",
    "                               'Wacced Out Murals (intro), Bodies (Kendrick Lamar), Squabble Up (Kendrick Lamar), Humble (Kendrick Lamar), DNA (Kendrick Lamar), Euphoria (Kendrick Lamar), Man at the Garden (Kendrick Lamar), Peekaboo (Kendrick Lamar), Luther (Kendrick Lamar and SZA), All the Stars (Kendrick Lamar and SZA), Not Like Us (Kendrick Lamar), TV Off (Kendrick Lamar)'],\n",
    "                   'Musicians': ['Kendrick Lamar', 'SZA', 'Mustard']})\n",
    "#view DataFrame\n",
    "df\n",
    "\n",
    "\n"
   ]
  },
  {
   "cell_type": "code",
   "execution_count": 4,
   "metadata": {},
   "outputs": [
    {
     "name": "stdout",
     "output_type": "stream",
     "text": [
      "   Superbowl                                            Setlist  \\\n",
      "0          1  Wacced Out Murals (intro), Bodies (Kendrick La...   \n",
      "1          1  Wacced Out Murals (intro), Bodies (Kendrick La...   \n",
      "2          1  Wacced Out Murals (intro), Bodies (Kendrick La...   \n",
      "\n",
      "        Musicians  num_songs  \n",
      "0  Kendrick Lamar         11  \n",
      "1             SZA          2  \n",
      "2         Mustard          0  \n"
     ]
    }
   ],
   "source": [
    "# Define a function to count the number of times each musician is mentioned in the Setlist\n",
    "def count_musician_mentions(row):\n",
    "    musician = row['Musicians']\n",
    "    setlist = row['Setlist']\n",
    "    return setlist.count(musician)\n",
    "\n",
    "# Apply the function to each row and create a new column 'num_songs'\n",
    "df['num_songs'] = df.apply(count_musician_mentions, axis=1)\n",
    "\n",
    "# View the updated DataFrame\n",
    "print(df)"
   ]
  },
  {
   "cell_type": "code",
   "execution_count": null,
   "metadata": {},
   "outputs": [
    {
     "name": "stdout",
     "output_type": "stream",
     "text": [
      "   Superbowl                                            Setlist Musicians  \\\n",
      "2          1  Wacced Out Murals (intro), Bodies (Kendrick La...   Mustard   \n",
      "\n",
      "   num_songs  \n",
      "2          0  \n"
     ]
    }
   ],
   "source": [
    "#print rows where num_songs == 0\n",
    "no_songs = df[df['num_songs'] == 0]\n",
    "print(no_songs)\n",
    "#create dataframe of no_songs\n",
    "no_songs_df = pd.DataFrame(no_songs)"
   ]
  }
 ],
 "metadata": {
  "kernelspec": {
   "display_name": "Python 3",
   "language": "python",
   "name": "python3"
  },
  "language_info": {
   "codemirror_mode": {
    "name": "ipython",
    "version": 3
   },
   "file_extension": ".py",
   "mimetype": "text/x-python",
   "name": "python",
   "nbconvert_exporter": "python",
   "pygments_lexer": "ipython3",
   "version": "3.11.9"
  }
 },
 "nbformat": 4,
 "nbformat_minor": 2
}
