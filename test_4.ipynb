{
 "cells": [
  {
   "cell_type": "code",
   "execution_count": 3,
   "metadata": {},
   "outputs": [
    {
     "name": "stdout",
     "output_type": "stream",
     "text": [
      "object\n",
      "object\n"
     ]
    }
   ],
   "source": [
    "import pandas as pd\n",
    "\n",
    "# Load the CSV file and specify the datatype for the 'Setlist' and 'Musician(s)' columns\n",
    "file_path = 'c:/Users/Jade Ana-Maria/peckham1/daz-venv/24-intro-to-data-science/final_project/halftime_musicians_cleaned.csv'\n",
    "df = pd.read_csv(file_path, dtype={'Setlist': str, 'Musician(s)': str})\n",
    "\n",
    "# Verify the datatypes of the 'Setlist' and 'Musician(s)' columns\n",
    "print(df['Setlist'].dtype)\n",
    "print(df['Musician(s)'].dtype)\n",
    "\n",
    "# Save the updated DataFrame back to the CSV file if needed\n",
    "#df.to_csv(file_path, index=False)"
   ]
  }
 ],
 "metadata": {
  "kernelspec": {
   "display_name": "Python 3",
   "language": "python",
   "name": "python3"
  },
  "language_info": {
   "codemirror_mode": {
    "name": "ipython",
    "version": 3
   },
   "file_extension": ".py",
   "mimetype": "text/x-python",
   "name": "python",
   "nbconvert_exporter": "python",
   "pygments_lexer": "ipython3",
   "version": "3.11.9"
  }
 },
 "nbformat": 4,
 "nbformat_minor": 2
}
