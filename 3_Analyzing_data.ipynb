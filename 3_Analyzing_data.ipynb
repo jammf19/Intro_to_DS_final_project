{
 "cells": [
  {
   "cell_type": "code",
   "execution_count": 2,
   "metadata": {},
   "outputs": [],
   "source": [
    "\n",
    "###Analysis of Superbowl Halftime show###\n",
    "\n",
    "import pandas as pd\n",
    "import matplotlib.pyplot as plt"
   ]
  },
  {
   "cell_type": "code",
   "execution_count": null,
   "metadata": {},
   "outputs": [],
   "source": []
  },
  {
   "cell_type": "markdown",
   "metadata": {},
   "source": [
    "*Analysis of Superbowl halftime shows* \n",
    "\n"
   ]
  },
  {
   "cell_type": "markdown",
   "metadata": {},
   "source": [
    "#Import libraries\n",
    "import pandas as pd\n",
    "from matplotlib import pyplot as plt"
   ]
  },
  {
   "cell_type": "code",
   "execution_count": 3,
   "metadata": {},
   "outputs": [
    {
     "data": {
      "text/html": [
       "<div>\n",
       "<style scoped>\n",
       "    .dataframe tbody tr th:only-of-type {\n",
       "        vertical-align: middle;\n",
       "    }\n",
       "\n",
       "    .dataframe tbody tr th {\n",
       "        vertical-align: top;\n",
       "    }\n",
       "\n",
       "    .dataframe thead th {\n",
       "        text-align: right;\n",
       "    }\n",
       "</style>\n",
       "<table border=\"1\" class=\"dataframe\">\n",
       "  <thead>\n",
       "    <tr style=\"text-align: right;\">\n",
       "      <th></th>\n",
       "      <th>Super_Bowl</th>\n",
       "      <th>Musician</th>\n",
       "      <th>num_songs</th>\n",
       "    </tr>\n",
       "  </thead>\n",
       "  <tbody>\n",
       "    <tr>\n",
       "      <th>0</th>\n",
       "      <td>59</td>\n",
       "      <td>SZA</td>\n",
       "      <td>2</td>\n",
       "    </tr>\n",
       "    <tr>\n",
       "      <th>1</th>\n",
       "      <td>59</td>\n",
       "      <td>Kendrick Lamar</td>\n",
       "      <td>12</td>\n",
       "    </tr>\n",
       "    <tr>\n",
       "      <th>2</th>\n",
       "      <td>58</td>\n",
       "      <td>Usher</td>\n",
       "      <td>13</td>\n",
       "    </tr>\n",
       "    <tr>\n",
       "      <th>3</th>\n",
       "      <td>58</td>\n",
       "      <td>Ludacris</td>\n",
       "      <td>1</td>\n",
       "    </tr>\n",
       "    <tr>\n",
       "      <th>4</th>\n",
       "      <td>58</td>\n",
       "      <td>H.E.R.</td>\n",
       "      <td>1</td>\n",
       "    </tr>\n",
       "  </tbody>\n",
       "</table>\n",
       "</div>"
      ],
      "text/plain": [
       "   Super_Bowl        Musician  num_songs\n",
       "0          59             SZA          2\n",
       "1          59  Kendrick Lamar         12\n",
       "2          58           Usher         13\n",
       "3          58        Ludacris          1\n",
       "4          58          H.E.R.          1"
      ]
     },
     "execution_count": 3,
     "metadata": {},
     "output_type": "execute_result"
    }
   ],
   "source": [
    "#Load dataset into a dataframe\n",
    "halftime_musicians = pd.read_csv('halftime_musicians_cleaned.csv')\n",
    "\n",
    "#Inspect the first few rows of the dataframe\n",
    "halftime_musicians.head()"
   ]
  },
  {
   "cell_type": "markdown",
   "metadata": {},
   "source": [
    "**Who has done the most halftime show appearances?**"
   ]
  },
  {
   "cell_type": "code",
   "execution_count": 4,
   "metadata": {},
   "outputs": [
    {
     "data": {
      "text/html": [
       "<div>\n",
       "<style scoped>\n",
       "    .dataframe tbody tr th:only-of-type {\n",
       "        vertical-align: middle;\n",
       "    }\n",
       "\n",
       "    .dataframe tbody tr th {\n",
       "        vertical-align: top;\n",
       "    }\n",
       "\n",
       "    .dataframe thead th {\n",
       "        text-align: right;\n",
       "    }\n",
       "</style>\n",
       "<table border=\"1\" class=\"dataframe\">\n",
       "  <thead>\n",
       "    <tr style=\"text-align: right;\">\n",
       "      <th></th>\n",
       "      <th>Musician</th>\n",
       "      <th>Super_Bowl</th>\n",
       "    </tr>\n",
       "  </thead>\n",
       "  <tbody>\n",
       "    <tr>\n",
       "      <th>6</th>\n",
       "      <td>Al Hirt</td>\n",
       "      <td>4</td>\n",
       "    </tr>\n",
       "    <tr>\n",
       "      <th>149</th>\n",
       "      <td>Up with People</td>\n",
       "      <td>4</td>\n",
       "    </tr>\n",
       "    <tr>\n",
       "      <th>116</th>\n",
       "      <td>Southern University Marching Band</td>\n",
       "      <td>3</td>\n",
       "    </tr>\n",
       "    <tr>\n",
       "      <th>23</th>\n",
       "      <td>Carol Channing</td>\n",
       "      <td>2</td>\n",
       "    </tr>\n",
       "    <tr>\n",
       "      <th>21</th>\n",
       "      <td>Bruno Mars</td>\n",
       "      <td>2</td>\n",
       "    </tr>\n",
       "    <tr>\n",
       "      <th>15</th>\n",
       "      <td>Beyoncé</td>\n",
       "      <td>2</td>\n",
       "    </tr>\n",
       "    <tr>\n",
       "      <th>46</th>\n",
       "      <td>Gloria Estefan</td>\n",
       "      <td>2</td>\n",
       "    </tr>\n",
       "    <tr>\n",
       "      <th>47</th>\n",
       "      <td>Grambling State University</td>\n",
       "      <td>2</td>\n",
       "    </tr>\n",
       "    <tr>\n",
       "      <th>90</th>\n",
       "      <td>Nelly</td>\n",
       "      <td>2</td>\n",
       "    </tr>\n",
       "    <tr>\n",
       "      <th>81</th>\n",
       "      <td>Mary J. Blige</td>\n",
       "      <td>2</td>\n",
       "    </tr>\n",
       "    <tr>\n",
       "      <th>48</th>\n",
       "      <td>Grambling State University Marching Band</td>\n",
       "      <td>2</td>\n",
       "    </tr>\n",
       "    <tr>\n",
       "      <th>32</th>\n",
       "      <td>Disney characters</td>\n",
       "      <td>2</td>\n",
       "    </tr>\n",
       "    <tr>\n",
       "      <th>146</th>\n",
       "      <td>University of Minnesota Marching Band</td>\n",
       "      <td>2</td>\n",
       "    </tr>\n",
       "    <tr>\n",
       "      <th>100</th>\n",
       "      <td>Pete Fountain</td>\n",
       "      <td>2</td>\n",
       "    </tr>\n",
       "    <tr>\n",
       "      <th>150</th>\n",
       "      <td>Usher</td>\n",
       "      <td>2</td>\n",
       "    </tr>\n",
       "    <tr>\n",
       "      <th>66</th>\n",
       "      <td>Kendrick Lamar</td>\n",
       "      <td>2</td>\n",
       "    </tr>\n",
       "    <tr>\n",
       "      <th>63</th>\n",
       "      <td>Justin Timberlake</td>\n",
       "      <td>2</td>\n",
       "    </tr>\n",
       "  </tbody>\n",
       "</table>\n",
       "</div>"
      ],
      "text/plain": [
       "                                     Musician  Super_Bowl\n",
       "6                                     Al Hirt           4\n",
       "149                            Up with People           4\n",
       "116         Southern University Marching Band           3\n",
       "23                             Carol Channing           2\n",
       "21                                 Bruno Mars           2\n",
       "15                                    Beyoncé           2\n",
       "46                             Gloria Estefan           2\n",
       "47                 Grambling State University           2\n",
       "90                                      Nelly           2\n",
       "81                              Mary J. Blige           2\n",
       "48   Grambling State University Marching Band           2\n",
       "32                          Disney characters           2\n",
       "146     University of Minnesota Marching Band           2\n",
       "100                             Pete Fountain           2\n",
       "150                                     Usher           2\n",
       "66                             Kendrick Lamar           2\n",
       "63                          Justin Timberlake           2"
      ]
     },
     "execution_count": 4,
     "metadata": {},
     "output_type": "execute_result"
    }
   ],
   "source": [
    "#Count the number of halftime show appearances for each musician and sort them from most to least\n",
    "halftime_appearances = halftime_musicians.groupby('Musician').count()['Super_Bowl'].reset_index()\n",
    "halftime_appearances = halftime_appearances.sort_values('Super_Bowl', ascending=False)\n",
    "\n",
    "#Display musicians who have appeared more than once\n",
    "halftime_appearances[halftime_appearances['Super_Bowl'] > 1]"
   ]
  },
  {
   "cell_type": "markdown",
   "metadata": {},
   "source": [
    "## How many songs are usually performed by each musician in a set\n"
   ]
  },
  {
   "cell_type": "code",
   "execution_count": 5,
   "metadata": {},
   "outputs": [
    {
     "data": {
      "image/png": "[encoded data removed]",
      "text/plain": [
       "<Figure size 640x480 with 1 Axes>"
      ]
     },
     "metadata": {},
     "output_type": "display_data"
    }
   ],
   "source": [
    "#Plot a histogram of number of songs for each halftime show\n",
    "plt.hist(halftime_musicians.num_songs, bins=15)\n",
    "plt.xlabel('Number of Songs for each Halftime Show Performance')\n",
    "plt.ylabel('Number of Musicians')\n",
    "plt.title('A Distribution of Number of Songs Performed by Musicians at the Super Bowl Halftime Show')\n",
    "plt.show()\n"
   ]
  },
  {
   "cell_type": "markdown",
   "metadata": {},
   "source": [
    "Most musioians are performing 1-4 songs in a performance im curious to find out who is performing 13."
   ]
  },
  {
   "cell_type": "code",
   "execution_count": 6,
   "metadata": {},
   "outputs": [
    {
     "data": {
      "text/html": [
       "<div>\n",
       "<style scoped>\n",
       "    .dataframe tbody tr th:only-of-type {\n",
       "        vertical-align: middle;\n",
       "    }\n",
       "\n",
       "    .dataframe tbody tr th {\n",
       "        vertical-align: top;\n",
       "    }\n",
       "\n",
       "    .dataframe thead th {\n",
       "        text-align: right;\n",
       "    }\n",
       "</style>\n",
       "<table border=\"1\" class=\"dataframe\">\n",
       "  <thead>\n",
       "    <tr style=\"text-align: right;\">\n",
       "      <th></th>\n",
       "      <th>Musician</th>\n",
       "      <th>Super_Bowl</th>\n",
       "      <th>num_songs</th>\n",
       "    </tr>\n",
       "  </thead>\n",
       "  <tbody>\n",
       "    <tr>\n",
       "      <th>149</th>\n",
       "      <td>Up with People</td>\n",
       "      <td>60</td>\n",
       "      <td>26</td>\n",
       "    </tr>\n",
       "    <tr>\n",
       "      <th>48</th>\n",
       "      <td>Grambling State University Marching Band</td>\n",
       "      <td>33</td>\n",
       "      <td>17</td>\n",
       "    </tr>\n",
       "    <tr>\n",
       "      <th>66</th>\n",
       "      <td>Kendrick Lamar</td>\n",
       "      <td>115</td>\n",
       "      <td>16</td>\n",
       "    </tr>\n",
       "    <tr>\n",
       "      <th>32</th>\n",
       "      <td>Disney characters</td>\n",
       "      <td>46</td>\n",
       "      <td>15</td>\n",
       "    </tr>\n",
       "    <tr>\n",
       "      <th>29</th>\n",
       "      <td>Coldplay</td>\n",
       "      <td>50</td>\n",
       "      <td>14</td>\n",
       "    </tr>\n",
       "    <tr>\n",
       "      <th>105</th>\n",
       "      <td>Rihanna</td>\n",
       "      <td>57</td>\n",
       "      <td>14</td>\n",
       "    </tr>\n",
       "    <tr>\n",
       "      <th>150</th>\n",
       "      <td>Usher</td>\n",
       "      <td>103</td>\n",
       "      <td>14</td>\n",
       "    </tr>\n",
       "    <tr>\n",
       "      <th>63</th>\n",
       "      <td>Justin Timberlake</td>\n",
       "      <td>90</td>\n",
       "      <td>12</td>\n",
       "    </tr>\n",
       "    <tr>\n",
       "      <th>50</th>\n",
       "      <td>Grambling State University and USC Marching Bands</td>\n",
       "      <td>21</td>\n",
       "      <td>11</td>\n",
       "    </tr>\n",
       "    <tr>\n",
       "      <th>15</th>\n",
       "      <td>Beyoncé</td>\n",
       "      <td>97</td>\n",
       "      <td>11</td>\n",
       "    </tr>\n",
       "    <tr>\n",
       "      <th>87</th>\n",
       "      <td>Mickey Rooney</td>\n",
       "      <td>21</td>\n",
       "      <td>11</td>\n",
       "    </tr>\n",
       "    <tr>\n",
       "      <th>45</th>\n",
       "      <td>George Burns</td>\n",
       "      <td>21</td>\n",
       "      <td>11</td>\n",
       "    </tr>\n",
       "    <tr>\n",
       "      <th>115</th>\n",
       "      <td>Southern California -area high school drill te...</td>\n",
       "      <td>21</td>\n",
       "      <td>11</td>\n",
       "    </tr>\n",
       "    <tr>\n",
       "      <th>108</th>\n",
       "      <td>Shakira</td>\n",
       "      <td>54</td>\n",
       "      <td>10</td>\n",
       "    </tr>\n",
       "    <tr>\n",
       "      <th>60</th>\n",
       "      <td>Jessica Simpson</td>\n",
       "      <td>38</td>\n",
       "      <td>10</td>\n",
       "    </tr>\n",
       "  </tbody>\n",
       "</table>\n",
       "</div>"
      ],
      "text/plain": [
       "                                              Musician  Super_Bowl  num_songs\n",
       "149                                     Up with People          60         26\n",
       "48            Grambling State University Marching Band          33         17\n",
       "66                                      Kendrick Lamar         115         16\n",
       "32                                   Disney characters          46         15\n",
       "29                                            Coldplay          50         14\n",
       "105                                            Rihanna          57         14\n",
       "150                                              Usher         103         14\n",
       "63                                   Justin Timberlake          90         12\n",
       "50   Grambling State University and USC Marching Bands          21         11\n",
       "15                                             Beyoncé          97         11\n",
       "87                                       Mickey Rooney          21         11\n",
       "45                                        George Burns          21         11\n",
       "115  Southern California -area high school drill te...          21         11\n",
       "108                                            Shakira          54         10\n",
       "60                                     Jessica Simpson          38         10"
      ]
     },
     "metadata": {},
     "output_type": "display_data"
    }
   ],
   "source": [
    "#Filter out \n",
    "halftime_songs = halftime_musicians.groupby('Musician').sum('num_songs').reset_index()\n",
    "\n",
    "# Sort the DataFrame by 'num_songs' in descending order\n",
    "halftime_songs = halftime_songs.sort_values('num_songs', ascending=False)\n",
    "display(halftime_songs.head(15))"
   ]
  },
  {
   "cell_type": "code",
   "execution_count": 13,
   "metadata": {},
   "outputs": [
    {
     "data": {
      "application/vnd.plotly.v1+json": {
       "config": {
        "plotlyServerURL": "https://plot.ly"
       },
       "data": [
        {
         "customdata": [
          [
           "Up with People"
          ],
          [
           "Grambling State University Marching Band"
          ],
          [
           "Kendrick Lamar"
          ],
          [
           "Disney characters"
          ],
          [
           "Coldplay"
          ],
          [
           "Rihanna"
          ],
          [
           "Usher"
          ],
          [
           "Justin Timberlake"
          ],
          [
           "Grambling State University and USC Marching Bands"
          ],
          [
           "Beyoncé"
          ],
          [
           "Mickey Rooney"
          ],
          [
           "George Burns"
          ],
          [
           "Southern California -area high school drill teams and dancers"
          ],
          [
           "Shakira"
          ],
          [
           "Jessica Simpson"
          ],
          [
           "Diana Ross"
          ],
          [
           "Lady Gaga"
          ],
          [
           "Martha Reeves"
          ],
          [
           "Maroon 5"
          ],
          [
           "The Weeknd"
          ],
          [
           "South Florida -area dancers and performers"
          ],
          [
           "Grambling State University Marching Bands"
          ],
          [
           "Katy Perry"
          ],
          [
           "Elvis Presto"
          ],
          [
           "The Black Eyed Peas"
          ],
          [
           "Members of the 1980 US Olympic Hockey Team"
          ],
          [
           "Anaheim High School Ana-Hi-Steppers Drill Team and Flag Girls"
          ],
          [
           "Bruno Mars"
          ],
          [
           "Olympic figure skaters Brian Boitano and Dorothy Hamill"
          ],
          [
           "Prince"
          ],
          [
           "Savion Glover"
          ],
          [
           "Jennifer Lopez"
          ],
          [
           "Southern University Marching Band"
          ],
          [
           "University of Arizona Symphonic Marching Band"
          ],
          [
           "The Blues Brothers ( Dan Aykroyd"
          ],
          [
           "University of Florida"
          ],
          [
           "John Goodman and Jim Belushi )"
          ],
          [
           "Florida State University"
          ],
          [
           "Catherine Crier (\"news\" intro)"
          ],
          [
           "Al Hirt"
          ],
          [
           "The Who"
          ],
          [
           "Los Angeles Super Drill Team"
          ],
          [
           "card stunt"
          ],
          [
           "Michael Jackson"
          ],
          [
           "Madonna"
          ],
          [
           "Nicholls State University Marching Band"
          ],
          [
           "Gloria Estefan"
          ],
          [
           "Edward James Olmos (narrator)"
          ],
          [
           "Doug Kershaw"
          ],
          [
           "Irma Thomas"
          ],
          [
           "USL Marching Band"
          ],
          [
           "California State University Northridge Marching Band and USC Marching Bands"
          ],
          [
           "80-person choir ( Georgia State University )"
          ],
          [
           "88 grand piano players (various)"
          ],
          [
           "The combined San Diego State University Marching Aztecs"
          ],
          [
           "Teddy Pendergrass"
          ],
          [
           "Indiana Jones & Marion Ravenwood"
          ],
          [
           "000 local children"
          ],
          [
           "Bruce Springsteen"
          ],
          [
           "2"
          ],
          [
           "Aerosmith"
          ],
          [
           "Audience ( card stunt )"
          ],
          [
           "New Kids on the Block"
          ],
          [
           "University of Michigan Marching Band"
          ],
          [
           "Warren Moon"
          ],
          [
           "Tom Petty and the Heartbreakers"
          ],
          [
           "Dr. Dre"
          ],
          [
           "E Street Band"
          ],
          [
           "NSYNC"
          ],
          [
           "Paul McCartney"
          ],
          [
           "Stevie Wonder"
          ],
          [
           "Mary J. Blige"
          ],
          [
           "Janet Jackson"
          ],
          [
           "Eminem"
          ],
          [
           "The Rolling Stones"
          ],
          [
           "The Temptations"
          ],
          [
           "U2"
          ],
          [
           "Carol Channing"
          ],
          [
           "Patti LaBelle"
          ],
          [
           "Snoop Dogg"
          ],
          [
           "P. Diddy"
          ],
          [
           "Missy Elliott"
          ],
          [
           "University of Minnesota Marching Band"
          ],
          [
           "ZZ Top"
          ],
          [
           "Tony Bennett"
          ],
          [
           "Pete Fountain"
          ],
          [
           "Bad Bunny"
          ],
          [
           "Big Boi"
          ],
          [
           "50 Cent"
          ],
          [
           "Alicia Keys"
          ],
          [
           "Andy Williams"
          ],
          [
           "Cee Lo Green"
          ],
          [
           "Boyz II Men"
          ],
          [
           "The Rockettes"
          ],
          [
           "Doc Severinsen"
          ],
          [
           "Destiny's Child"
          ],
          [
           "Grambling State University"
          ],
          [
           "Lil Jon"
          ],
          [
           "James Brown"
          ],
          [
           "Shania Twain"
          ],
          [
           "No Doubt"
          ],
          [
           "Smokey Robinson"
          ],
          [
           "Marguerite Piazza"
          ],
          [
           "Nelly"
          ],
          [
           "Kid Rock"
          ],
          [
           "Lionel Hampton"
          ],
          [
           "SZA"
          ],
          [
           "Anderson .Paak"
          ],
          [
           "Anita Bryant"
          ],
          [
           "Arturo Sandoval"
          ],
          [
           "Clint Black"
          ],
          [
           "Chubby Checker"
          ],
          [
           "Christina Aguilera"
          ],
          [
           "Britney Spears"
          ],
          [
           "Big Bad Voodoo Daddy"
          ],
          [
           "Enrique Iglesias"
          ],
          [
           "Ella Fitzgerald"
          ],
          [
           "Florida A&M University band"
          ],
          [
           "LMFAO"
          ],
          [
           "Ken Hamilton"
          ],
          [
           "Judy Mallett ( Miss Texas 1973) on fiddle"
          ],
          [
           "Emme Muñiz"
          ],
          [
           "Helen O'Connell"
          ],
          [
           "H.E.R."
          ],
          [
           "J Balvin"
          ],
          [
           "Jermaine Dupri"
          ],
          [
           "Nicki Minaj"
          ],
          [
           "Mercer Ellington"
          ],
          [
           "Miami Sound Machine"
          ],
          [
           "Miami-area high school bands"
          ],
          [
           "Mark Ronson"
          ],
          [
           "Lenny Kravitz"
          ],
          [
           "M.I.A."
          ],
          [
           "Ludacris"
          ],
          [
           "Phil Collins"
          ],
          [
           "Ocean of Soul"
          ],
          [
           "Red Hot Chili Peppers"
          ],
          [
           "Tanya Tucker"
          ],
          [
           "Southeast Missouri State"
          ],
          [
           "Slash"
          ],
          [
           "Spirit of Houston"
          ],
          [
           "Queen Latifah"
          ],
          [
           "The Judds"
          ],
          [
           "The Apache Band"
          ],
          [
           "Sting"
          ],
          [
           "Tyler Apache Belles Drill Team"
          ],
          [
           "Tops in Blue"
          ],
          [
           "Travis Scott"
          ],
          [
           "Toni Braxton"
          ],
          [
           "Travis Tritt"
          ],
          [
           "USAFA Cadet Chorale"
          ],
          [
           "U.S. Marine Corps Drill Team"
          ],
          [
           "Up With People"
          ],
          [
           "University of Texas Longhorn Band"
          ],
          [
           "Woody Herman"
          ],
          [
           "Various Caribbean bands"
          ],
          [
           "including Gramacks out of Dominica"
          ],
          [
           "will.i.am"
          ]
         ],
         "hovertemplate": "index=%{x}<br>num_songs=%{marker.color}<br>Musician=%{customdata[0]}<extra></extra>",
         "legendgroup": "",
         "marker": {
          "color": {
           "bdata": "GhEQDw4ODgwLCwsLCwoKCgoJCQkJCQkJCAgICAgICAgICAcHBwcHBgYGBgUFBQUFBQUFBQUFBQUFBAQEBAQEBAQEBAQEBAQEAwMDAwMDAwMDAwICAgICAgICAgICAgICAgICAgICAgICAgIBAQEBAQEBAQEBAQEBAQEBAQEBAQEBAQEBAQEBAQEBAQEBAQEBAQEBAQEBAQEBAQEBAQE=",
           "dtype": "i1"
          },
          "coloraxis": "coloraxis",
          "size": {
           "bdata": "GhEQDw4ODgwLCwsLCwoKCgoJCQkJCQkJCAgICAgICAgICAcHBwcHBgYGBgUFBQUFBQUFBQUFBQUFBAQEBAQEBAQEBAQEBAQEAwMDAwMDAwMDAwICAgICAgICAgICAgICAgICAgICAgICAgIBAQEBAQEBAQEBAQEBAQEBAQEBAQEBAQEBAQEBAQEBAQEBAQEBAQEBAQEBAQEBAQEBAQE=",
           "dtype": "i1"
          },
          "sizemode": "area",
          "sizeref": 0.065,
          "symbol": "circle"
         },
         "mode": "markers",
         "name": "",
         "orientation": "v",
         "showlegend": false,
         "type": "scatter",
         "x": {
          "bdata": "lQAwAEIAIAAdAGkAlgA/ADIADwBXAC0AcwBsADwAHwBFAFAATwCBAHEAMQBAACcAewBSAAgAFQBgAGYAawA6AHQAjwB8AJAAPQAsABgABgCCAEkAmwBWAEwAXAAuACUAIgA2AI4AFgADAAQAgwB5ADUAAAAUAAEABQANAFsAkQCYAIQAIwAkAFkAYwB2AFEAOQAoAH8AgACMABcAYgBwAGEAWACSAJoAhgBkAA4AEQACAAcACgAZABIAfgAhAB4ALwBHADgAbQBeAG8ATQBaAEMASABqAAkACwAMABwAGwAaABMAEAAqACYAKwBEAEEAPgApADQAMwA3ADsAXQBTAFQAVQBOAEYASwBKAGUAXwBoAHgAcgBuAHUAZwB9AHoAdwCKAIcAiACFAIkAjQCLAJQAkwCZAJcAnACdAA==",
          "dtype": "i2"
         },
         "xaxis": "x",
         "y": {
          "bdata": "GhEQDw4ODgwLCwsLCwoKCgoJCQkJCQkJCAgICAgICAgICAcHBwcHBgYGBgUFBQUFBQUFBQUFBQUFBAQEBAQEBAQEBAQEBAQEAwMDAwMDAwMDAwICAgICAgICAgICAgICAgICAgICAgICAgIBAQEBAQEBAQEBAQEBAQEBAQEBAQEBAQEBAQEBAQEBAQEBAQEBAQEBAQEBAQEBAQEBAQE=",
          "dtype": "i1"
         },
         "yaxis": "y"
        }
       ],
       "layout": {
        "coloraxis": {
         "colorbar": {
          "title": {
           "text": "num_songs"
          }
         },
         "colorscale": [
          [
           0,
           "#0d0887"
          ],
          [
           0.1111111111111111,
           "#46039f"
          ],
          [
           0.2222222222222222,
           "#7201a8"
          ],
          [
           0.3333333333333333,
           "#9c179e"
          ],
          [
           0.4444444444444444,
           "#bd3786"
          ],
          [
           0.5555555555555556,
           "#d8576b"
          ],
          [
           0.6666666666666666,
           "#ed7953"
          ],
          [
           0.7777777777777778,
           "#fb9f3a"
          ],
          [
           0.8888888888888888,
           "#fdca26"
          ],
          [
           1,
           "#f0f921"
          ]
         ]
        },
        "legend": {
         "itemsizing": "constant",
         "tracegroupgap": 0
        },
        "template": {
         "data": {
          "bar": [
           {
            "error_x": {
             "color": "#2a3f5f"
            },
            "error_y": {
             "color": "#2a3f5f"
            },
            "marker": {
             "line": {
              "color": "#E5ECF6",
              "width": 0.5
             },
             "pattern": {
              "fillmode": "overlay",
              "size": 10,
              "solidity": 0.2
             }
            },
            "type": "bar"
           }
          ],
          "barpolar": [
           {
            "marker": {
             "line": {
              "color": "#E5ECF6",
              "width": 0.5
             },
             "pattern": {
              "fillmode": "overlay",
              "size": 10,
              "solidity": 0.2
             }
            },
            "type": "barpolar"
           }
          ],
          "carpet": [
           {
            "aaxis": {
             "endlinecolor": "#2a3f5f",
             "gridcolor": "white",
             "linecolor": "white",
             "minorgridcolor": "white",
             "startlinecolor": "#2a3f5f"
            },
            "baxis": {
             "endlinecolor": "#2a3f5f",
             "gridcolor": "white",
             "linecolor": "white",
             "minorgridcolor": "white",
             "startlinecolor": "#2a3f5f"
            },
            "type": "carpet"
           }
          ],
          "choropleth": [
           {
            "colorbar": {
             "outlinewidth": 0,
             "ticks": ""
            },
            "type": "choropleth"
           }
          ],
          "contour": [
           {
            "colorbar": {
             "outlinewidth": 0,
             "ticks": ""
            },
            "colorscale": [
             [
              0,
              "#0d0887"
             ],
             [
              0.1111111111111111,
              "#46039f"
             ],
             [
              0.2222222222222222,
              "#7201a8"
             ],
             [
              0.3333333333333333,
              "#9c179e"
             ],
             [
              0.4444444444444444,
              "#bd3786"
             ],
             [
              0.5555555555555556,
              "#d8576b"
             ],
             [
              0.6666666666666666,
              "#ed7953"
             ],
             [
              0.7777777777777778,
              "#fb9f3a"
             ],
             [
              0.8888888888888888,
              "#fdca26"
             ],
             [
              1,
              "#f0f921"
             ]
            ],
            "type": "contour"
           }
          ],
          "contourcarpet": [
           {
            "colorbar": {
             "outlinewidth": 0,
             "ticks": ""
            },
            "type": "contourcarpet"
           }
          ],
          "heatmap": [
           {
            "colorbar": {
             "outlinewidth": 0,
             "ticks": ""
            },
            "colorscale": [
             [
              0,
              "#0d0887"
             ],
             [
              0.1111111111111111,
              "#46039f"
             ],
             [
              0.2222222222222222,
              "#7201a8"
             ],
             [
              0.3333333333333333,
              "#9c179e"
             ],
             [
              0.4444444444444444,
              "#bd3786"
             ],
             [
              0.5555555555555556,
              "#d8576b"
             ],
             [
              0.6666666666666666,
              "#ed7953"
             ],
             [
              0.7777777777777778,
              "#fb9f3a"
             ],
             [
              0.8888888888888888,
              "#fdca26"
             ],
             [
              1,
              "#f0f921"
             ]
            ],
            "type": "heatmap"
           }
          ],
          "histogram": [
           {
            "marker": {
             "pattern": {
              "fillmode": "overlay",
              "size": 10,
              "solidity": 0.2
             }
            },
            "type": "histogram"
           }
          ],
          "histogram2d": [
           {
            "colorbar": {
             "outlinewidth": 0,
             "ticks": ""
            },
            "colorscale": [
             [
              0,
              "#0d0887"
             ],
             [
              0.1111111111111111,
              "#46039f"
             ],
             [
              0.2222222222222222,
              "#7201a8"
             ],
             [
              0.3333333333333333,
              "#9c179e"
             ],
             [
              0.4444444444444444,
              "#bd3786"
             ],
             [
              0.5555555555555556,
              "#d8576b"
             ],
             [
              0.6666666666666666,
              "#ed7953"
             ],
             [
              0.7777777777777778,
              "#fb9f3a"
             ],
             [
              0.8888888888888888,
              "#fdca26"
             ],
             [
              1,
              "#f0f921"
             ]
            ],
            "type": "histogram2d"
           }
          ],
          "histogram2dcontour": [
           {
            "colorbar": {
             "outlinewidth": 0,
             "ticks": ""
            },
            "colorscale": [
             [
              0,
              "#0d0887"
             ],
             [
              0.1111111111111111,
              "#46039f"
             ],
             [
              0.2222222222222222,
              "#7201a8"
             ],
             [
              0.3333333333333333,
              "#9c179e"
             ],
             [
              0.4444444444444444,
              "#bd3786"
             ],
             [
              0.5555555555555556,
              "#d8576b"
             ],
             [
              0.6666666666666666,
              "#ed7953"
             ],
             [
              0.7777777777777778,
              "#fb9f3a"
             ],
             [
              0.8888888888888888,
              "#fdca26"
             ],
             [
              1,
              "#f0f921"
             ]
            ],
            "type": "histogram2dcontour"
           }
          ],
          "mesh3d": [
           {
            "colorbar": {
             "outlinewidth": 0,
             "ticks": ""
            },
            "type": "mesh3d"
           }
          ],
          "parcoords": [
           {
            "line": {
             "colorbar": {
              "outlinewidth": 0,
              "ticks": ""
             }
            },
            "type": "parcoords"
           }
          ],
          "pie": [
           {
            "automargin": true,
            "type": "pie"
           }
          ],
          "scatter": [
           {
            "fillpattern": {
             "fillmode": "overlay",
             "size": 10,
             "solidity": 0.2
            },
            "type": "scatter"
           }
          ],
          "scatter3d": [
           {
            "line": {
             "colorbar": {
              "outlinewidth": 0,
              "ticks": ""
             }
            },
            "marker": {
             "colorbar": {
              "outlinewidth": 0,
              "ticks": ""
             }
            },
            "type": "scatter3d"
           }
          ],
          "scattercarpet": [
           {
            "marker": {
             "colorbar": {
              "outlinewidth": 0,
              "ticks": ""
             }
            },
            "type": "scattercarpet"
           }
          ],
          "scattergeo": [
           {
            "marker": {
             "colorbar": {
              "outlinewidth": 0,
              "ticks": ""
             }
            },
            "type": "scattergeo"
           }
          ],
          "scattergl": [
           {
            "marker": {
             "colorbar": {
              "outlinewidth": 0,
              "ticks": ""
             }
            },
            "type": "scattergl"
           }
          ],
          "scattermap": [
           {
            "marker": {
             "colorbar": {
              "outlinewidth": 0,
              "ticks": ""
             }
            },
            "type": "scattermap"
           }
          ],
          "scattermapbox": [
           {
            "marker": {
             "colorbar": {
              "outlinewidth": 0,
              "ticks": ""
             }
            },
            "type": "scattermapbox"
           }
          ],
          "scatterpolar": [
           {
            "marker": {
             "colorbar": {
              "outlinewidth": 0,
              "ticks": ""
             }
            },
            "type": "scatterpolar"
           }
          ],
          "scatterpolargl": [
           {
            "marker": {
             "colorbar": {
              "outlinewidth": 0,
              "ticks": ""
             }
            },
            "type": "scatterpolargl"
           }
          ],
          "scatterternary": [
           {
            "marker": {
             "colorbar": {
              "outlinewidth": 0,
              "ticks": ""
             }
            },
            "type": "scatterternary"
           }
          ],
          "surface": [
           {
            "colorbar": {
             "outlinewidth": 0,
             "ticks": ""
            },
            "colorscale": [
             [
              0,
              "#0d0887"
             ],
             [
              0.1111111111111111,
              "#46039f"
             ],
             [
              0.2222222222222222,
              "#7201a8"
             ],
             [
              0.3333333333333333,
              "#9c179e"
             ],
             [
              0.4444444444444444,
              "#bd3786"
             ],
             [
              0.5555555555555556,
              "#d8576b"
             ],
             [
              0.6666666666666666,
              "#ed7953"
             ],
             [
              0.7777777777777778,
              "#fb9f3a"
             ],
             [
              0.8888888888888888,
              "#fdca26"
             ],
             [
              1,
              "#f0f921"
             ]
            ],
            "type": "surface"
           }
          ],
          "table": [
           {
            "cells": {
             "fill": {
              "color": "#EBF0F8"
             },
             "line": {
              "color": "white"
             }
            },
            "header": {
             "fill": {
              "color": "#C8D4E3"
             },
             "line": {
              "color": "white"
             }
            },
            "type": "table"
           }
          ]
         },
         "layout": {
          "annotationdefaults": {
           "arrowcolor": "#2a3f5f",
           "arrowhead": 0,
           "arrowwidth": 1
          },
          "autotypenumbers": "strict",
          "coloraxis": {
           "colorbar": {
            "outlinewidth": 0,
            "ticks": ""
           }
          },
          "colorscale": {
           "diverging": [
            [
             0,
             "#8e0152"
            ],
            [
             0.1,
             "#c51b7d"
            ],
            [
             0.2,
             "#de77ae"
            ],
            [
             0.3,
             "#f1b6da"
            ],
            [
             0.4,
             "#fde0ef"
            ],
            [
             0.5,
             "#f7f7f7"
            ],
            [
             0.6,
             "#e6f5d0"
            ],
            [
             0.7,
             "#b8e186"
            ],
            [
             0.8,
             "#7fbc41"
            ],
            [
             0.9,
             "#4d9221"
            ],
            [
             1,
             "#276419"
            ]
           ],
           "sequential": [
            [
             0,
             "#0d0887"
            ],
            [
             0.1111111111111111,
             "#46039f"
            ],
            [
             0.2222222222222222,
             "#7201a8"
            ],
            [
             0.3333333333333333,
             "#9c179e"
            ],
            [
             0.4444444444444444,
             "#bd3786"
            ],
            [
             0.5555555555555556,
             "#d8576b"
            ],
            [
             0.6666666666666666,
             "#ed7953"
            ],
            [
             0.7777777777777778,
             "#fb9f3a"
            ],
            [
             0.8888888888888888,
             "#fdca26"
            ],
            [
             1,
             "#f0f921"
            ]
           ],
           "sequentialminus": [
            [
             0,
             "#0d0887"
            ],
            [
             0.1111111111111111,
             "#46039f"
            ],
            [
             0.2222222222222222,
             "#7201a8"
            ],
            [
             0.3333333333333333,
             "#9c179e"
            ],
            [
             0.4444444444444444,
             "#bd3786"
            ],
            [
             0.5555555555555556,
             "#d8576b"
            ],
            [
             0.6666666666666666,
             "#ed7953"
            ],
            [
             0.7777777777777778,
             "#fb9f3a"
            ],
            [
             0.8888888888888888,
             "#fdca26"
            ],
            [
             1,
             "#f0f921"
            ]
           ]
          },
          "colorway": [
           "#636efa",
           "#EF553B",
           "#00cc96",
           "#ab63fa",
           "#FFA15A",
           "#19d3f3",
           "#FF6692",
           "#B6E880",
           "#FF97FF",
           "#FECB52"
          ],
          "font": {
           "color": "#2a3f5f"
          },
          "geo": {
           "bgcolor": "white",
           "lakecolor": "white",
           "landcolor": "#E5ECF6",
           "showlakes": true,
           "showland": true,
           "subunitcolor": "white"
          },
          "hoverlabel": {
           "align": "left"
          },
          "hovermode": "closest",
          "mapbox": {
           "style": "light"
          },
          "paper_bgcolor": "white",
          "plot_bgcolor": "#E5ECF6",
          "polar": {
           "angularaxis": {
            "gridcolor": "white",
            "linecolor": "white",
            "ticks": ""
           },
           "bgcolor": "#E5ECF6",
           "radialaxis": {
            "gridcolor": "white",
            "linecolor": "white",
            "ticks": ""
           }
          },
          "scene": {
           "xaxis": {
            "backgroundcolor": "#E5ECF6",
            "gridcolor": "white",
            "gridwidth": 2,
            "linecolor": "white",
            "showbackground": true,
            "ticks": "",
            "zerolinecolor": "white"
           },
           "yaxis": {
            "backgroundcolor": "#E5ECF6",
            "gridcolor": "white",
            "gridwidth": 2,
            "linecolor": "white",
            "showbackground": true,
            "ticks": "",
            "zerolinecolor": "white"
           },
           "zaxis": {
            "backgroundcolor": "#E5ECF6",
            "gridcolor": "white",
            "gridwidth": 2,
            "linecolor": "white",
            "showbackground": true,
            "ticks": "",
            "zerolinecolor": "white"
           }
          },
          "shapedefaults": {
           "line": {
            "color": "#2a3f5f"
           }
          },
          "ternary": {
           "aaxis": {
            "gridcolor": "white",
            "linecolor": "white",
            "ticks": ""
           },
           "baxis": {
            "gridcolor": "white",
            "linecolor": "white",
            "ticks": ""
           },
           "bgcolor": "#E5ECF6",
           "caxis": {
            "gridcolor": "white",
            "linecolor": "white",
            "ticks": ""
           }
          },
          "title": {
           "x": 0.05
          },
          "xaxis": {
           "automargin": true,
           "gridcolor": "white",
           "linecolor": "white",
           "ticks": "",
           "title": {
            "standoff": 15
           },
           "zerolinecolor": "white",
           "zerolinewidth": 2
          },
          "yaxis": {
           "automargin": true,
           "gridcolor": "white",
           "linecolor": "white",
           "ticks": "",
           "title": {
            "standoff": 15
           },
           "zerolinecolor": "white",
           "zerolinewidth": 2
          }
         }
        },
        "title": {
         "text": "Super Bowl Musician Performance Overview"
        },
        "xaxis": {
         "anchor": "y",
         "domain": [
          0,
          1
         ],
         "title": {
          "text": "index"
         }
        },
        "yaxis": {
         "anchor": "x",
         "domain": [
          0,
          1
         ],
         "title": {
          "text": "num_songs"
         }
        }
       }
      }
     },
     "metadata": {},
     "output_type": "display_data"
    }
   ],
   "source": [
    "\n",
    "\n",
    "import plotly.express as px\n",
    "\n",
    "# Use the existing halftime_songs DataFrame\n",
    "df = halftime_songs\n",
    "\n",
    "fig = px.scatter(df, y='num_songs', color='num_songs',\n",
    "                 size='num_songs',  \n",
    "                 hover_data=['Musician'],\n",
    "                 title='Super Bowl Musician Performance Overview') \n",
    "  \n",
    "fig.show()"
   ]
  }
 ],
 "metadata": {
  "kernelspec": {
   "display_name": "Python 3",
   "language": "python",
   "name": "python3"
  },
  "language_info": {
   "codemirror_mode": {
    "name": "ipython",
    "version": 3
   },
   "file_extension": ".py",
   "mimetype": "text/x-python",
   "name": "python",
   "nbconvert_exporter": "python",
   "pygments_lexer": "ipython3",
   "version": "3.11.9"
  }
 },
 "nbformat": 4,
 "nbformat_minor": 2
}
