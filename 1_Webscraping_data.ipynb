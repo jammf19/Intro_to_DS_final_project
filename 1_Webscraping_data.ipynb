{
 "cells": [
  {
   "cell_type": "code",
   "execution_count": 8,
   "metadata": {},
   "outputs": [],
   "source": [
    "#importing the libraries\n",
    "from bs4 import BeautifulSoup\n",
    "import requests\n",
    "import pandas as pd"
   ]
  },
  {
   "cell_type": "code",
   "execution_count": 9,
   "metadata": {},
   "outputs": [],
   "source": [
    "# The URL of the webpage to scrape table data about Super Bowl Halftime Shows\n",
    "url = 'https://en.wikipedia.org/wiki/List_of_Super_Bowl_halftime_shows#cite_note-68'\n",
    "response = requests.get(url)\n",
    "soup = BeautifulSoup(response.text, features = \"html.parser\")"
   ]
  },
  {
   "cell_type": "code",
   "execution_count": 10,
   "metadata": {},
   "outputs": [
    {
     "name": "stdout",
     "output_type": "stream",
     "text": [
      "     Super Bowl               Date                               Location  \\\n",
      "54     LV, show   February 7, 2021  Raymond James Stadium, Tampa, Florida   \n",
      "55    LVI, show  February 13, 2022    SoFi Stadium, Inglewood, California   \n",
      "56   LVII, show  February 12, 2023  State Farm Stadium, Glendale, Arizona   \n",
      "57  LVIII, show  February 11, 2024    Allegiant Stadium, Paradise, Nevada   \n",
      "58    LIX, show   February 9, 2025         Caesars Superdome, New Orleans   \n",
      "\n",
      "   Theme Performer(s)                                           Producer  \\\n",
      "54   NaN          NaN  Jesse Collins, Jay-Z, Roc Nation, Diversified ...   \n",
      "55   NaN          NaN  Jesse Collins, Jay-Z, Roc Nation, Diversified ...   \n",
      "56   NaN          NaN  Jesse Collins, Jay-Z, Roc Nation, Diversified ...   \n",
      "57   NaN          NaN  Jesse Collins, Jay-Z, Roc Nation, Diversified ...   \n",
      "58   NaN          NaN  Jesse Collins, Jay-Z, Roc Nation, Diversified ...   \n",
      "\n",
      "                                              Setlist                    Ref.  \\\n",
      "54  \" Call Out My Name \", \" Starboy \", \" The Hills...                  [ 59 ]   \n",
      "55  \" The Next Episode \" (Dr. Dre and Snoop Dogg),...                  [ 60 ]   \n",
      "56  \" What's My Name? \" (intro), \" Bitch Better Ha...          [ 61 ], [ 62 ]   \n",
      "57  \" My Way \" (intro), \" Caught Up \" (Usher) (con...  [ 63 ], [ 64 ], [ 65 ]   \n",
      "58  \" Wacced Out Murals \" (intro), \"Bodies\" (Kendr...          [ 66 ], [ 67 ]   \n",
      "\n",
      "        Sponsor                                   Special guest(s)  \\\n",
      "54        Pepsi                                                  —   \n",
      "55        Pepsi                                     Anderson .Paak   \n",
      "56  Apple Music                                                  —   \n",
      "57  Apple Music  Alicia Keys, Jermaine Dupri, H.E.R., will.i.am...   \n",
      "58  Apple Music   Samuel L. Jackson, SZA, Serena Williams, Mustard   \n",
      "\n",
      "                                         Headliner(s)         Director  \n",
      "54                                         The Weeknd  Hamish Hamilton  \n",
      "55  Dr. Dre, Snoop Dogg, Eminem, Mary J. Blige, Ke...  Hamish Hamilton  \n",
      "56                                            Rihanna  Hamish Hamilton  \n",
      "57                                              Usher  Hamish Hamilton  \n",
      "58                                     Kendrick Lamar  Hamish Hamilton  \n"
     ]
    },
    {
     "name": "stderr",
     "output_type": "stream",
     "text": [
      "C:\\Users\\Jade Ana-Maria\\AppData\\Local\\Temp\\ipykernel_9624\\3574281259.py:20: FutureWarning: Passing literal html to 'read_html' is deprecated and will be removed in a future version. To read from a literal string, wrap it in a 'StringIO' object.\n",
      "  all_dfs = [pd.read_html(str(table))[0] for table in tables]\n",
      "C:\\Users\\Jade Ana-Maria\\AppData\\Local\\Temp\\ipykernel_9624\\3574281259.py:20: FutureWarning: Passing literal html to 'read_html' is deprecated and will be removed in a future version. To read from a literal string, wrap it in a 'StringIO' object.\n",
      "  all_dfs = [pd.read_html(str(table))[0] for table in tables]\n",
      "C:\\Users\\Jade Ana-Maria\\AppData\\Local\\Temp\\ipykernel_9624\\3574281259.py:20: FutureWarning: Passing literal html to 'read_html' is deprecated and will be removed in a future version. To read from a literal string, wrap it in a 'StringIO' object.\n",
      "  all_dfs = [pd.read_html(str(table))[0] for table in tables]\n",
      "C:\\Users\\Jade Ana-Maria\\AppData\\Local\\Temp\\ipykernel_9624\\3574281259.py:20: FutureWarning: Passing literal html to 'read_html' is deprecated and will be removed in a future version. To read from a literal string, wrap it in a 'StringIO' object.\n",
      "  all_dfs = [pd.read_html(str(table))[0] for table in tables]\n",
      "C:\\Users\\Jade Ana-Maria\\AppData\\Local\\Temp\\ipykernel_9624\\3574281259.py:20: FutureWarning: Passing literal html to 'read_html' is deprecated and will be removed in a future version. To read from a literal string, wrap it in a 'StringIO' object.\n",
      "  all_dfs = [pd.read_html(str(table))[0] for table in tables]\n",
      "C:\\Users\\Jade Ana-Maria\\AppData\\Local\\Temp\\ipykernel_9624\\3574281259.py:20: FutureWarning: Passing literal html to 'read_html' is deprecated and will be removed in a future version. To read from a literal string, wrap it in a 'StringIO' object.\n",
      "  all_dfs = [pd.read_html(str(table))[0] for table in tables]\n",
      "C:\\Users\\Jade Ana-Maria\\AppData\\Local\\Temp\\ipykernel_9624\\3574281259.py:20: FutureWarning: Passing literal html to 'read_html' is deprecated and will be removed in a future version. To read from a literal string, wrap it in a 'StringIO' object.\n",
      "  all_dfs = [pd.read_html(str(table))[0] for table in tables]\n"
     ]
    }
   ],
   "source": [
    "# Define the get_content_value function to handle nested <li> and <a> tags and separate them by commas\n",
    "def get_content_value(row_data):\n",
    "    if row_data.find(\"li\"):\n",
    "        return ', '.join([li.get_text(\" \", strip=True).replace(\"\\xa0\", \" \") for li in row_data.find_all(\"li\")])\n",
    "    elif row_data.find(\"a\"):\n",
    "        return ', '.join([a.get_text(\" \", strip=True).replace(\"\\xa0\", \" \") for a in row_data.find_all(\"a\")])\n",
    "    else:\n",
    "        return row_data.get_text(\" \", strip=True).replace(\"\\xa0\", \" \")\n",
    "\n",
    "# Extract the rows using the updated get_content_value function\n",
    "tables = soup.find_all(\"table\", {\"class\": \"wikitable\"})\n",
    "\n",
    "# Preprocess the tables to ensure <li> and <a> tags are separated by commas\n",
    "for table in tables:\n",
    "    for tr in table.find_all('tr'):\n",
    "        for td in tr.find_all('td'):\n",
    "            td.string = get_content_value(td)\n",
    "\n",
    "#process each table found            \n",
    "all_dfs = [pd.read_html(str(table))[0] for table in tables]\n",
    "\n",
    "#combine all dataframes into one\n",
    "df = pd.concat(all_dfs, ignore_index=True)\n",
    "\n",
    "print(df.tail())"
   ]
  },
  {
   "cell_type": "code",
   "execution_count": 11,
   "metadata": {},
   "outputs": [
    {
     "name": "stdout",
     "output_type": "stream",
     "text": [
      "  Super_Bowl              Date                       Location           Theme  \\\n",
      "0          I  January 15, 1967  Los Angeles Memorial Coliseum               —   \n",
      "1         II  January 14, 1968              Miami Orange Bowl               —   \n",
      "2        III  January 12, 1969              Miami Orange Bowl  America Thanks   \n",
      "3         IV  January 11, 1970    Tulane Stadium, New Orleans      Mardi Gras   \n",
      "4    V, show  January 17, 1971              Miami Orange Bowl               —   \n",
      "\n",
      "                                        Performer(s)      Producer  \\\n",
      "0  University of Arizona Symphonic Marching Band,...  Tommy Walker   \n",
      "1                         Grambling State University             —   \n",
      "2  Florida A&M University band, Miami-area high s...             —   \n",
      "3  Marguerite Piazza, Doc Severinsen, Al Hirt, Li...             —   \n",
      "4  Southeast Missouri State, Anita Bryant, Up Wit...             —   \n",
      "\n",
      "                                             Setlist  \\\n",
      "0  \" The Sound of Music \", Medley: \" Way Down Yon...   \n",
      "1                                                  —   \n",
      "2                                                  —   \n",
      "3  \" Do You Know What It Means to Miss New Orlean...   \n",
      "4                                                  —   \n",
      "\n",
      "                             Ref. Sponsor Special guest(s) Headliner(s)  \\\n",
      "0  [ 10 ], [ 11 ], [ 12 ], [ 13 ]     NaN              NaN          NaN   \n",
      "1                             NaN     NaN              NaN          NaN   \n",
      "2                          [ 10 ]     NaN              NaN          NaN   \n",
      "3                          [ 10 ]       —              NaN          NaN   \n",
      "4  [ 10 ], [ 14 ], [ 15 ], [ 16 ]       —              NaN          NaN   \n",
      "\n",
      "  Director  \n",
      "0      NaN  \n",
      "1      NaN  \n",
      "2      NaN  \n",
      "3      NaN  \n",
      "4      NaN  \n"
     ]
    }
   ],
   "source": [
    "#rename superbowl column to get rid of whitespace\n",
    "if \"Super Bowl\" in df.columns:\n",
    "    df.rename(columns={\"Super Bowl\": \"Super_Bowl\"}, inplace=True)\n",
    "\n",
    "#Preprocessing the data to remove unwanted characters\n",
    "\n",
    "#remove the word show from the Super_Bowl column\n",
    "df[\"Super_Bowl\"] = df[\"Super_Bowl\"].str.replace(\"(show)\", \"\", regex=False).str.strip()\n",
    "#remove 50 from the Super_Bowl column\n",
    "df[\"Super_Bowl\"] = df[\"Super_Bowl\"].str.replace(\"50\", \"L\", regex=False).str.strip()\n",
    "print(df.head())\n"
   ]
  },
  {
   "cell_type": "code",
   "execution_count": 12,
   "metadata": {},
   "outputs": [
    {
     "data": {
      "text/plain": [
       "59"
      ]
     },
     "execution_count": 12,
     "metadata": {},
     "output_type": "execute_result"
    }
   ],
   "source": [
    "len(df)"
   ]
  },
  {
   "cell_type": "code",
   "execution_count": 13,
   "metadata": {},
   "outputs": [
    {
     "name": "stdout",
     "output_type": "stream",
     "text": [
      "halftime_musicians_raw.csv'\n"
     ]
    }
   ],
   "source": [
    "df.to_csv(\"halftime_musicians_raw.csv\", index=False)\n",
    "print(\"halftime_musicians_raw.csv'\")"
   ]
  }
 ],
 "metadata": {
  "kernelspec": {
   "display_name": "Python 3",
   "language": "python",
   "name": "python3"
  },
  "language_info": {
   "codemirror_mode": {
    "name": "ipython",
    "version": 3
   },
   "file_extension": ".py",
   "mimetype": "text/x-python",
   "name": "python",
   "nbconvert_exporter": "python",
   "pygments_lexer": "ipython3",
   "version": "3.11.9"
  }
 },
 "nbformat": 4,
 "nbformat_minor": 2
}
