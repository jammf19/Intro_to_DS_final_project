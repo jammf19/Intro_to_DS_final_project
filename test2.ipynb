{
 "cells": [
  {
   "cell_type": "code",
   "execution_count": 1,
   "metadata": {},
   "outputs": [
    {
     "name": "stdout",
     "output_type": "stream",
     "text": [
      "Index(['Super Bowl', 'Date', 'Location', 'Theme', 'Performer(s)', 'Producer',\n",
      "       'Setlist', 'Ref.', 'Sponsor', 'Special guest(s)', 'Headliner(s)',\n",
      "       'Director'],\n",
      "      dtype='object')\n",
      "  Super_Bowl              Date  \\\n",
      "0          I  January 15, 1967   \n",
      "1         II  January 14, 1968   \n",
      "2        III  January 12, 1969   \n",
      "3         IV  January 11, 1970   \n",
      "4          V  January 17, 1971   \n",
      "\n",
      "                                            Location                  Theme  \\\n",
      "0  Los Angeles Memorial Coliseum (Los Angeles, Ca...                      —   \n",
      "1                 Miami Orange Bowl (Miami, Florida)                      —   \n",
      "2                 Miami Orange Bowl (Miami, Florida)         America Thanks   \n",
      "3            Tulane Stadium (New Orleans, Louisiana)  Tribute to Mardi Gras   \n",
      "4                 Miami Orange Bowl (Miami, Florida)                      —   \n",
      "\n",
      "                                        Performer(s)      Producer  \\\n",
      "0  University of Arizona Symphonic Marching Band ...  Tommy Walker   \n",
      "1           Grambling State University Marching Band             —   \n",
      "2  Florida A&M University band Miami-area high sc...             —   \n",
      "3  Marguerite Piazza Doc Severinsen Al Hirt Lione...             —   \n",
      "4  Southeast Missouri State Marching Band Anita B...             —   \n",
      "\n",
      "                                             Setlist              Ref.  \\\n",
      "0  (The University of Arizona Symphonic Marching ...  [10][11][12][13]   \n",
      "1                                                  —               NaN   \n",
      "2                                                  —              [10]   \n",
      "3  \"Do You Know What It Means to Miss New Orleans...              [10]   \n",
      "4                                                  —  [10][14][15][16]   \n",
      "\n",
      "  Sponsor Special guest(s) Headliner(s) Director  \n",
      "0     NaN              NaN          NaN      NaN  \n",
      "1     NaN              NaN          NaN      NaN  \n",
      "2     NaN              NaN          NaN      NaN  \n",
      "3       —              NaN          NaN      NaN  \n",
      "4       —              NaN          NaN      NaN  \n"
     ]
    },
    {
     "name": "stderr",
     "output_type": "stream",
     "text": [
      "C:\\Users\\Jade Ana-Maria\\AppData\\Local\\Temp\\ipykernel_21164\\1315340320.py:18: FutureWarning: Passing literal html to 'read_html' is deprecated and will be removed in a future version. To read from a literal string, wrap it in a 'StringIO' object.\n",
      "  all_dfs = [pd.read_html(str(table))[0] for table in tables]\n",
      "C:\\Users\\Jade Ana-Maria\\AppData\\Local\\Temp\\ipykernel_21164\\1315340320.py:18: FutureWarning: Passing literal html to 'read_html' is deprecated and will be removed in a future version. To read from a literal string, wrap it in a 'StringIO' object.\n",
      "  all_dfs = [pd.read_html(str(table))[0] for table in tables]\n",
      "C:\\Users\\Jade Ana-Maria\\AppData\\Local\\Temp\\ipykernel_21164\\1315340320.py:18: FutureWarning: Passing literal html to 'read_html' is deprecated and will be removed in a future version. To read from a literal string, wrap it in a 'StringIO' object.\n",
      "  all_dfs = [pd.read_html(str(table))[0] for table in tables]\n",
      "C:\\Users\\Jade Ana-Maria\\AppData\\Local\\Temp\\ipykernel_21164\\1315340320.py:18: FutureWarning: Passing literal html to 'read_html' is deprecated and will be removed in a future version. To read from a literal string, wrap it in a 'StringIO' object.\n",
      "  all_dfs = [pd.read_html(str(table))[0] for table in tables]\n",
      "C:\\Users\\Jade Ana-Maria\\AppData\\Local\\Temp\\ipykernel_21164\\1315340320.py:18: FutureWarning: Passing literal html to 'read_html' is deprecated and will be removed in a future version. To read from a literal string, wrap it in a 'StringIO' object.\n",
      "  all_dfs = [pd.read_html(str(table))[0] for table in tables]\n",
      "C:\\Users\\Jade Ana-Maria\\AppData\\Local\\Temp\\ipykernel_21164\\1315340320.py:18: FutureWarning: Passing literal html to 'read_html' is deprecated and will be removed in a future version. To read from a literal string, wrap it in a 'StringIO' object.\n",
      "  all_dfs = [pd.read_html(str(table))[0] for table in tables]\n",
      "C:\\Users\\Jade Ana-Maria\\AppData\\Local\\Temp\\ipykernel_21164\\1315340320.py:18: FutureWarning: Passing literal html to 'read_html' is deprecated and will be removed in a future version. To read from a literal string, wrap it in a 'StringIO' object.\n",
      "  all_dfs = [pd.read_html(str(table))[0] for table in tables]\n"
     ]
    }
   ],
   "source": [
    "import requests\n",
    "import pandas as pd\n",
    "from bs4 import BeautifulSoup\n",
    "\n",
    "url = \"https://en.wikipedia.org/wiki/List_of_Super_Bowl_halftime_shows\"\n",
    "\n",
    "response = requests.get(url)\n",
    "soup = BeautifulSoup(response.text, \"html.parser\")\n",
    "\n",
    "tables = soup.find_all(\"table\", {\"class\": \"wikitable\"})\n",
    "#Here, the code is searching through the parsed HTML to find all <table> elements \n",
    "# that have a class attribute of \"wikitable\". \n",
    "# Wikipedia commonly uses this class for its data tables. \n",
    "# The find_all() method returns a list of all matching elements, \n",
    "# which is stored in the tables variable. Each element in this list \n",
    "# represents one HTML table from the page.\n",
    "\n",
    "all_dfs = [pd.read_html(str(table))[0] for table in tables]\n",
    "#This line uses a list comprehension to process each table found \n",
    "#in the previous step. For each table:\n",
    "\n",
    "#str(table) converts the BeautifulSoup table object back to an HTML string\n",
    "#pd.read_html() is a pandas function that converts HTML tables into pandas DataFrames\n",
    "#[0] extracts the first (and presumably only) DataFrame from the list returned by pd.read_html()\n",
    "\n",
    "#The result is all_dfs, a list of pandas DataFrames, \n",
    "# with each DataFrame containing the data from one of the tables found on the webpage.\n",
    "\n",
    "\n",
    "df = pd.concat(all_dfs, ignore_index=True)\n",
    "#The pd.concat() function combines all the separate DataFrames \n",
    "# in all_dfs into a single DataFrame, which is stored in df. \n",
    "# The ignore_index=True parameter tells pandas to create a new sequential index \n",
    "# for the combined DataFrame rather than keeping the original indices \n",
    "# from the separate DataFrames.\n",
    "\n",
    "print(df.columns)\n",
    "\n",
    "if \"Super Bowl\" in df.columns:\n",
    "    df.rename(columns={\"Super Bowl\": \"Super_Bowl\"}, inplace=True)\n",
    "\n",
    "df[\"Super_Bowl\"] = df[\"Super_Bowl\"].str.replace(\"(show)\", \"\", regex=False).str.strip()\n",
    "\n",
    "print(df.head())\n"
   ]
  },
  {
   "cell_type": "code",
   "execution_count": 10,
   "metadata": {},
   "outputs": [],
   "source": [
    "df = df.drop(index=0).reset_index(drop=True)"
   ]
  },
  {
   "cell_type": "code",
   "execution_count": 11,
   "metadata": {},
   "outputs": [
    {
     "name": "stdout",
     "output_type": "stream",
     "text": [
      "Data saved to 'super_bowl_halftime_shows.csv'\n"
     ]
    }
   ],
   "source": [
    "df.to_csv(\"super_bowl_halftime_shows.csv\", index=False)\n",
    "print(\"Data saved to 'super_bowl_halftime_shows.csv'\")"
   ]
  }
 ],
 "metadata": {
  "kernelspec": {
   "display_name": "Python 3",
   "language": "python",
   "name": "python3"
  },
  "language_info": {
   "codemirror_mode": {
    "name": "ipython",
    "version": 3
   },
   "file_extension": ".py",
   "mimetype": "text/x-python",
   "name": "python",
   "nbconvert_exporter": "python",
   "pygments_lexer": "ipython3",
   "version": "3.11.9"
  }
 },
 "nbformat": 4,
 "nbformat_minor": 2
}
